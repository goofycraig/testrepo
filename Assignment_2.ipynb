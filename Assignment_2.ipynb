{
 "cells": [
  {
   "cell_type": "markdown",
   "metadata": {
    "deletable": true,
    "editable": true
   },
   "source": [
    "### Assignment 2: Variables, Data Types, Data Structures"
   ]
  },
  {
   "cell_type": "markdown",
   "metadata": {},
   "source": [
    "#### Your name:\n",
    "\n",
    "#### Your NYU email:"
   ]
  },
  {
   "cell_type": "markdown",
   "metadata": {
    "deletable": true,
    "editable": true
   },
   "source": [
    "#### (2pts) A. Create a variable named `greeting` that contains the string 'hello world'. Print the variable `greeting`."
   ]
  },
  {
   "cell_type": "code",
   "execution_count": null,
   "metadata": {
    "collapsed": true,
    "deletable": true,
    "editable": true
   },
   "outputs": [],
   "source": []
  },
  {
   "cell_type": "markdown",
   "metadata": {
    "deletable": true,
    "editable": true
   },
   "source": [
    "#### (4pts) B. You are given the string below that contains all the letters of the alphabet in order. Using indexing and slicing methods, do the following:\n",
    "\n",
    "* Print the first letter of the alphabet\n",
    "* Print the second letter of the alphabet\n",
    "* Print the 3rd to 10th letter of the alphabet (inclusive on both ends)\n",
    "* Print the last letter of the alphabet, using negative indexing\n",
    "* Print the last 10 letters of the alphabet, using negative indexing\n",
    "* Print the fist half of the alphabet; use the `len` command.\n"
   ]
  },
  {
   "cell_type": "code",
   "execution_count": null,
   "metadata": {
    "collapsed": false,
    "deletable": true,
    "editable": true
   },
   "outputs": [],
   "source": [
    "alphabet = 'ABCDEFGHIJKLMNOPQRSTUVWXYZ'"
   ]
  },
  {
   "cell_type": "markdown",
   "metadata": {
    "deletable": true,
    "editable": true
   },
   "source": [
    "#### (4pts) C. You are given the height of someone in centimeters. You need to convert it into feet and inches. (Each foot is 30.48 cm. Each inch is 2.54cm. Use variables to store these quantities.). Print the number of feet as an integer, and the number of inches as a decimal with one decimal point."
   ]
  },
  {
   "cell_type": "code",
   "execution_count": null,
   "metadata": {
    "collapsed": false,
    "deletable": true,
    "editable": true
   },
   "outputs": [],
   "source": [
    "height = 175 #in cm"
   ]
  },
  {
   "cell_type": "markdown",
   "metadata": {
    "deletable": true,
    "editable": true
   },
   "source": [
    "#### (4pts) D. The Pythagorean Theorem\n",
    "\n",
    "If $a$ and $b$ are the lengths of the two short sides of a right triangle and $c$ is its long side then:\n",
    "\n",
    "$a^2 + b^2 = c^2$\n",
    "\n",
    "You are given a right triangle with side $a=10$ long and side $b=20$ long. How long is side $c$? (Hint: use the math.sqrt function to compute the square root.)"
   ]
  },
  {
   "cell_type": "code",
   "execution_count": null,
   "metadata": {
    "collapsed": false,
    "deletable": true,
    "editable": true
   },
   "outputs": [],
   "source": [
    "import math\n",
    "print(math.sqrt(2))"
   ]
  },
  {
   "cell_type": "markdown",
   "metadata": {
    "deletable": true,
    "editable": true
   },
   "source": [
    "###### The Pythagorean Theorem (cont)\n",
    "\n",
    "Conversely, if the formula $a^2 + b^2 = c^2$ holds then a triangle whose sides have length $a$, $b$ and $c$ is a right triangle. You are given below the lengths of the sides of 3 triangles. Write  the boolean expression that checks if the triangle is a right triangle. Assume that `c` is always the longest side.\n"
   ]
  },
  {
   "cell_type": "code",
   "execution_count": null,
   "metadata": {
    "collapsed": true,
    "deletable": true,
    "editable": true
   },
   "outputs": [],
   "source": [
    "# Triangle 1\n",
    "a = 10\n",
    "b = 20\n",
    "c = 30"
   ]
  },
  {
   "cell_type": "code",
   "execution_count": null,
   "metadata": {
    "collapsed": true,
    "deletable": true,
    "editable": true
   },
   "outputs": [],
   "source": [
    "# Triangle 2\n",
    "a = 15\n",
    "b = 112\n",
    "c = 113"
   ]
  },
  {
   "cell_type": "code",
   "execution_count": null,
   "metadata": {
    "collapsed": true,
    "deletable": true,
    "editable": true
   },
   "outputs": [],
   "source": [
    "# Triangle 3\n",
    "a = 96\n",
    "b = 247\n",
    "c = 255"
   ]
  },
  {
   "cell_type": "markdown",
   "metadata": {
    "deletable": true,
    "editable": true
   },
   "source": [
    "#### (4pts) E. Write Boolean expressions for the following.\n",
    "\n",
    "* Can a student graduate? A student can graduate after completing at least 120 credits, and has registered for at least 6 semesters ."
   ]
  },
  {
   "cell_type": "code",
   "execution_count": null,
   "metadata": {
    "collapsed": false,
    "deletable": true,
    "editable": true
   },
   "outputs": [],
   "source": [
    "semesters = 0 # fill your value\n",
    "credits = 0 # fill your value\n"
   ]
  },
  {
   "cell_type": "markdown",
   "metadata": {
    "deletable": true,
    "editable": true
   },
   "source": [
    "* Can I register today? A student can register on Monday if Senior, on Tuesday if Junior, on Wednesday if Sophomore, and on Thursday if Freshman."
   ]
  },
  {
   "cell_type": "code",
   "execution_count": null,
   "metadata": {
    "collapsed": true,
    "deletable": true,
    "editable": true
   },
   "outputs": [],
   "source": [
    "days = 'Sunday' #also 'Monday', 'Tuesday', 'Wednesday', 'Thurday', 'Friday', 'Saturday'\n",
    "status = 'Senior' #also 'Junior', 'Sophomore', 'Freshman'\n"
   ]
  },
  {
   "cell_type": "markdown",
   "metadata": {
    "deletable": true,
    "editable": true
   },
   "source": [
    "#### (4pts) F. Compute and print both roots of the quadratic equation x^2-5.86\\*x+8.5408.\n",
    "\n",
    "Hint: recall that the roots of a quadratic equation $a \\cdot x^2+ b \\cdot x+c$ are $x = \n",
    "\\frac{−b ± \\sqrt{b^2 − 4 \\cdot a \\cdot c}}{ 2 \\cdot a}$\n"
   ]
  },
  {
   "cell_type": "code",
   "execution_count": null,
   "metadata": {
    "collapsed": false,
    "deletable": true,
    "editable": true
   },
   "outputs": [],
   "source": []
  },
  {
   "cell_type": "markdown",
   "metadata": {
    "deletable": true,
    "editable": true
   },
   "source": [
    "#### (6pts) G. The students received their grades for a midterm exam, in the form of lists. The list contains the score each student received, for each question in the midterm. However, the professor was so absent minded that he forgot to sum up the points to compute the overall grade for each student.\n",
    "\n",
    "* (1pts) How many questions were in the midterm?\n",
    "* (1pts) Write code to compute the overall grade of each student. Add the overall in a new list called `grades`.\n",
    "* (4pts) Compute the maximum, minimum, average, and median grade among the overall student grades."
   ]
  },
  {
   "cell_type": "code",
   "execution_count": null,
   "metadata": {
    "collapsed": false,
    "deletable": true,
    "editable": true
   },
   "outputs": [],
   "source": [
    "studentA = [5, 2, 3, 1, 2, 4, 5, 5, 1, 1]\n",
    "studentB = [1, 2, 5, 5, 2, 0, 1, 5, 5, 2]\n",
    "studentC = [2, 5, 5, 5, 5, 0, 1, 3, 1, 0]\n",
    "studentD = [0, 1, 0, 5, 2, 5, 1, 3, 3, 5]\n",
    "studentE = [5, 4, 5, 5, 1, 5, 1, 4, 4, 5]"
   ]
  },
  {
   "cell_type": "markdown",
   "metadata": {
    "deletable": true,
    "editable": true
   },
   "source": [
    "#### (12pts) H.  You are given two articles below, regarding North and South Korea. The `article1` is from [Reuters](http://www.reuters.com/article/us-un-assembly-southkorea-northkorea-idUSKCN11T04N) and `article2` is from [Korea Herald](http://www.koreaherald.com/view.php?ud=20160923000173).\n",
    "\n",
    "* (1pts) Compute the length of each article in characters.\n",
    "* (1pts) Compute the length of each article length in words.\n",
    "* (1pts) Compute the length of each article in sentences. Assume that the period `.` is the separator between sentences.\n",
    "* (1pts) What is the average length of each sentence in words, for each article?\n",
    "* (1pts) How many distinct words appear in each of the two articles? Convert the articles to lowercase before the calculation.\n",
    "* (2pts) Is `Obama` mentioned in `article1`? Is `Obama` mentioned in `article2`?\n",
    "* (2pts) How many times is `Korea` mentioned in in `article1` and how many times in `article2`?\n",
    "* (3pts) Compute the Jaccard similarity between `article1` and `article2`  "
   ]
  },
  {
   "cell_type": "code",
   "execution_count": null,
   "metadata": {
    "collapsed": true,
    "deletable": true,
    "editable": true
   },
   "outputs": [],
   "source": [
    "article1 = \"\"\"South Korean Foreign Minister Yun Byung-se accused North Korea on Thursday of \"totally ridiculing\" the authority of the United Nations through its nuclear and missile tests and said it was time to reconsider whether it was qualified for U.N. membership. In an address to the annual United Nations General Assembly, Yun said the U.N. security Council should adopt \"stronger, comprehensive\" sanctions on North Korea after its fifth nuclear test on Sept. 9 and close loopholes in existing measures. \"North Korea's repeated violations and non-compliance of Security Council resolutions and international norms is unprecedented and has no parallel in the history of the U.N.,\" Yun said. \"North Korea is totally ridiculing the authority of the General Assembly and the Security Council,\" he said. \"Therefore, I believe it is high time to seriously reconsider whether North Korea is qualified as a peace-loving U.N. member, as many countries are already questioning.\" Yun said North Korea had not only advanced its nuclear and missile capacity, but publicly threatened to use those weapons preemptively. He said it was the \"last chance\" to put a brake on its nuclear ambitions. Yun also called for action against North Korea's violations of the rights of its own people, and said there should be greater focus on North Korean workers abroad and the possible diversion of their wages to weapons programs.Discussions are already under way on a possible new U.N. sanctions resolution on North Korea after its latest nuclear test. Analysts and diplomats say much depends on China's attitude. China is North Korea's main ally, but has been angered by its repeated missile and nuclear tests and backed tough U.N. sanctions on Pyongyang in March. At the same time, it has repeatedly called for a return to international talks to resolve the issue, in spite of the skepticism of other world powers. Chinese Premier Li Keqiang told the General Assembly on Wednesday countries must remain committed to denuclearization of the Korean peninsula, while seeking a solution to the North Korean nuclear issue through dialogue. The United States said Li and U.S. President Barack Obama agreed in New York on Monday to step up cooperation in the U.N. Security Council and in law enforcement channels Japanese Prime Minister Shinzo Abe said on Wednesday the threat posed by North Korea was \"substantially more serious\" than in the past and demanded an \"entirely distinct\" response.\"\"\"\n",
    "article2 = \"\"\"The UN Security Council should go beyond simply discussing North Korea's human rights violations and take \"meaningful action,\" South Korean Foreign Minister Yun Byung-se said Thursday, as the council is considering fresh sanctions on Pyongyang for its fifth nuclear test. Yun made the remark during a meeting with South Korean correspondents in New York, saying the North's human rights abuses will be one of the key focuses of an address he was scheduled to deliver at the UN General Assembly later in the day. Yun said it makes no sense for the North to ask for international aid to cope with the aftermath of a massive flood after wasting money on a nuclear test. \"North Korea cares nothing about people's hardships while wasting an enormous amount of money. I will strongly point out these dual attitudes and the North's disregard for human rights at the United Nations,\" Yun told reporters Yun's remarks came as the Security Council has been working on new sanctions on the North for its Sept. 9 nuclear test, and suggest that a new sanctions package could include measures with regard to Pyongyang's human rights violations. A senior government official also said on condition of anonymity that the Security Council might impose sanctions not only over the North's nuclear and missile programs, but also over its human rights abuses. The official spoke on condition of anonymity. The official also said a new sanctions resolution is expected to be adopted in a shorter period of time than after the North's fourth nuclear test in January when it took 57 days to adopt a resolution. \"I expect an additional resolution will be adopted within a reasonable period of time,\" the official said. The official also said that the previous resolution, considered the toughest sanctions on the North ever, is having considerable effects on the North. The US is also expected to take additional unilateral sanctions on Pyongyang, too, the official said. The official said it's not the right time to hold negotiations with the North because it could justify the North's bad behavior. The UN General Assembly adopted a landmark resolution calling for referring the issue to the International Criminal Court for two years in a row in 2014 and last year. Under the resolutions, the Security Council also held discussions on the issue twice. While in New York, Yun said he has held meetings with various US figures that could lead the security and foreign policy in the next US administration. He did not provide further specifics, including who those people were, and which campaign they're with. Yun said that he stressed in those meetings that the Korea-US alliance is a key pillar in the Asia-Pacific region and a core point of the rebalancing toward Asia-Pacific, and that the Korea-US free trade agreement has contributed greatly to enhancing mutual interests of the two countries.\"\"\""
   ]
  }
 ],
 "metadata": {
  "kernelspec": {
   "display_name": "Python 3",
   "language": "python",
   "name": "python3"
  },
  "language_info": {
   "codemirror_mode": {
    "name": "ipython",
    "version": 3
   },
   "file_extension": ".py",
   "mimetype": "text/x-python",
   "name": "python",
   "nbconvert_exporter": "python",
   "pygments_lexer": "ipython3",
   "version": "3.5.2"
  }
 },
 "nbformat": 4,
 "nbformat_minor": 0
}
